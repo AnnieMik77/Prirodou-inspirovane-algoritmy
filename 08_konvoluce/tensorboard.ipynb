{
 "cells": [
  {
   "cell_type": "markdown",
   "metadata": {},
   "source": [
    "# Tensorboard\n",
    "\n",
    "Tensorboard je velmi užitečný nástroj pro pochopení, sledování a logování jakýchkoliv výpočtů v tensorflow. Tensorflow umí logovat hodnoty všeho, co se v něm počítá a slouží k jejich zobrazení. Pokud chceme tensorboard použít, musíme definovat tzv. summaries, které právě obsahují logy. Potom už stačí jen tensorboard spustit (funguje v prohlížeči)."
   ]
  },
  {
   "cell_type": "code",
   "execution_count": 1,
   "metadata": {},
   "outputs": [
    {
     "name": "stderr",
     "output_type": "stream",
     "text": [
      "C:\\Users\\katie\\Anaconda3\\lib\\site-packages\\h5py\\__init__.py:36: FutureWarning: Conversion of the second argument of issubdtype from `float` to `np.floating` is deprecated. In future, it will be treated as `np.float64 == np.dtype(float).type`.\n",
      "  from ._conv import register_converters as _register_converters\n"
     ]
    },
    {
     "name": "stdout",
     "output_type": "stream",
     "text": [
      "Train on 60000 samples, validate on 10000 samples\n",
      "Epoch 1/10\n",
      "60000/60000 [==============================] - 191s 3ms/step - loss: 0.4376 - acc: 0.8734 - val_loss: 0.1414 - val_acc: 0.9602\n",
      "Epoch 2/10\n",
      "60000/60000 [==============================] - 191s 3ms/step - loss: 0.1302 - acc: 0.9620 - val_loss: 0.0982 - val_acc: 0.9716\n",
      "Epoch 3/10\n",
      "60000/60000 [==============================] - 167s 3ms/step - loss: 0.0914 - acc: 0.9728 - val_loss: 0.0693 - val_acc: 0.9793\n",
      "Epoch 4/10\n",
      "60000/60000 [==============================] - 170s 3ms/step - loss: 0.0729 - acc: 0.9777 - val_loss: 0.0614 - val_acc: 0.9814\n",
      "Epoch 5/10\n",
      "60000/60000 [==============================] - 164s 3ms/step - loss: 0.0616 - acc: 0.9815 - val_loss: 0.0606 - val_acc: 0.9814\n",
      "Epoch 6/10\n",
      "60000/60000 [==============================] - 163s 3ms/step - loss: 0.0539 - acc: 0.9833 - val_loss: 0.0454 - val_acc: 0.9859\n",
      "Epoch 7/10\n",
      "60000/60000 [==============================] - 172s 3ms/step - loss: 0.0478 - acc: 0.9856 - val_loss: 0.0524 - val_acc: 0.9837\n",
      "Epoch 8/10\n",
      "60000/60000 [==============================] - 162s 3ms/step - loss: 0.0432 - acc: 0.9870 - val_loss: 0.0456 - val_acc: 0.9857\n",
      "Epoch 9/10\n",
      "60000/60000 [==============================] - 165s 3ms/step - loss: 0.0395 - acc: 0.9880 - val_loss: 0.0413 - val_acc: 0.9873.0399 - acc: 0.987 - ET\n",
      "Epoch 10/10\n",
      "60000/60000 [==============================] - 170s 3ms/step - loss: 0.0363 - acc: 0.9890 - val_loss: 0.0412 - val_acc: 0.9866\n"
     ]
    },
    {
     "data": {
      "text/plain": [
       "<tensorflow.python.keras.callbacks.History at 0x258c59f51d0>"
      ]
     },
     "execution_count": 1,
     "metadata": {},
     "output_type": "execute_result"
    }
   ],
   "source": [
    "import tensorflow as tf\n",
    "import matplotlib.pyplot as plt\n",
    "from tensorflow.keras.layers import InputLayer\n",
    "from tensorflow.keras.layers import Conv2D\n",
    "from tensorflow.keras.layers import MaxPool2D\n",
    "from tensorflow.keras.layers import Flatten\n",
    "from tensorflow.keras.layers import Dense\n",
    "from tensorflow.keras.layers import Activation\n",
    "from tensorflow.keras.activations import linear\n",
    "from tensorflow.nn import softmax\n",
    "from tensorflow.keras.datasets.mnist import load_data\n",
    "%matplotlib inline\n",
    "\n",
    "nb_classes = 10\n",
    "input_shape = (28, 28, 1)\n",
    "\n",
    "(x_train, y_train), (x_test, y_test) = load_data()\n",
    "x_train = x_train.astype('float32')\n",
    "x_test = x_test.astype('float32')\n",
    "\n",
    "x_train = x_train.reshape((-1,) + input_shape)/255\n",
    "x_test = x_test.reshape((-1,) + input_shape)/255\n",
    "\n",
    "with tf.name_scope('model'):\n",
    "\n",
    "    model = tf.keras.models.Sequential([\n",
    "        InputLayer(input_shape = input_shape, name='input'),\n",
    "        Conv2D(filters=32, kernel_size=(5,5), name='conv_1'),\n",
    "        MaxPool2D(strides=2, pool_size=(2,2), name='maxpool_1'),\n",
    "        Conv2D(filters=64, kernel_size=5, activation=tf.nn.relu, name='conv_2'),\n",
    "        MaxPool2D(strides=2, pool_size=(2, 2), name='maxpool_2'),\n",
    "        Flatten(name='Flatten'),\n",
    "        Dense(units=30, activation=tf.keras.activations.relu, name='dense_1'),\n",
    "        Dense(units=nb_classes, activation=linear, name='dense_2'),\n",
    "        Activation(activation=softmax)\n",
    "        ]\n",
    "    )\n",
    "\n",
    "    model.compile(loss='sparse_categorical_crossentropy', optimizer='sgd', metrics=['accuracy'])\n",
    "\n",
    "tb_callbacks = tf.keras.callbacks.TensorBoard(log_dir = './logs2', histogram_freq=1, write_grads=True, write_images=True)\n",
    "model.fit(x_train, y_train, epochs=10, validation_data=(x_test, y_test), callbacks=[tb_callbacks])"
   ]
  },
  {
   "cell_type": "markdown",
   "metadata": {},
   "source": [
    "Teď můžete spustit tensorboard pomocí tensorboard --logdir=logs2 a prohlédnout si informace o trénování."
   ]
  },
  {
   "cell_type": "code",
   "execution_count": null,
   "metadata": {},
   "outputs": [],
   "source": []
  }
 ],
 "metadata": {
  "kernelspec": {
   "display_name": "Python 3",
   "language": "python",
   "name": "python3"
  },
  "language_info": {
   "codemirror_mode": {
    "name": "ipython",
    "version": 3
   },
   "file_extension": ".py",
   "mimetype": "text/x-python",
   "name": "python",
   "nbconvert_exporter": "python",
   "pygments_lexer": "ipython3",
   "version": "3.6.5"
  }
 },
 "nbformat": 4,
 "nbformat_minor": 2
}
