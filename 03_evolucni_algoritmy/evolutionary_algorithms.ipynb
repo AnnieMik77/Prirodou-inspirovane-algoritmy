{
 "cells": [
  {
   "cell_type": "markdown",
   "metadata": {},
   "source": [
    "# Evoluční algoritmy - jednoduchý genetický algoritmus"
   ]
  },
  {
   "cell_type": "markdown",
   "metadata": {},
   "source": [
    "Zkusíme si naprogramovat jednoduchý genetický algoritmus pro problém OneMAX. OneMAX je úloha, kdy chceme, aby jedinec zapsaný jako binární řetězec obsahovel co nejvíce jedniček."
   ]
  },
  {
   "cell_type": "code",
   "execution_count": 2,
   "metadata": {},
   "outputs": [],
   "source": [
    "import numpy as np\n",
    "import random\n",
    "import copy\n",
    "%matplotlib inline\n",
    "import matplotlib.pyplot as plt"
   ]
  },
  {
   "cell_type": "markdown",
   "metadata": {},
   "source": [
    "Nejprve si napíšeme funkci, co vytvoří náhodnou populaci jedinců velikosti *population_size*, kde každý jedince bude mít velikost *individual_size*."
   ]
  },
  {
   "cell_type": "code",
   "execution_count": 3,
   "metadata": {},
   "outputs": [],
   "source": [
    "def random_population(population_size, individual_size):\n",
    "    population = []\n",
    "    \n",
    "    for i in range(0,population_size):\n",
    "        individual = np.random.choice([0, 1], size=(individual_size,), p=[1/2, 1/2])\n",
    "        population.append(individual)\n",
    "        \n",
    "    return population"
   ]
  },
  {
   "cell_type": "markdown",
   "metadata": {},
   "source": [
    "Pro každou úlohu řešenou evolučním algoritmem je důležité správně definovat fitness funkci, která bude říkat, jak moc jsou jedinci dobří vzhledem k populaci a kterou se bude algoritmus snažit maximalizovat. Pro OneMAX problém bude ideální fitness funkce počet jedniček v jedinci."
   ]
  },
  {
   "cell_type": "code",
   "execution_count": 4,
   "metadata": {},
   "outputs": [],
   "source": [
    "def fitness(individual):\n",
    "    return sum(individual)"
   ]
  },
  {
   "cell_type": "markdown",
   "metadata": {},
   "source": [
    "Dále si napíšeme funkci, která bude dělat selekci jedinců. Použijeme ruletovou selekci, tedy každému jedinci přiřadíme výseč rulety úměrnou jeho fitness a z ní pak náhodně vybíráme jedince, kde lepší jedinci mají větší šanci být vybráni. Naštěstí knihovna random obsahuje funkci choices, která toto umí a nemusíme si to psát sami (jupí!)."
   ]
  },
  {
   "cell_type": "code",
   "execution_count": 5,
   "metadata": {},
   "outputs": [],
   "source": [
    "def selection(population,fitness_value):\n",
    "    return copy.deepcopy(random.choices(population, weights=fitness_value, k=len(population))) "
   ]
  },
  {
   "cell_type": "markdown",
   "metadata": {},
   "source": [
    "Máme vybrané dvojice jedinců, tak na nich provedeme křížení. Budeme dělat jednobodové křížení, teda si náhodně zvolíme bod v jedinci a hodnoty před tímto bodem vezmeme z jednoho rodiče a hodnoty po tomto bodu z druhého."
   ]
  },
  {
   "cell_type": "code",
   "execution_count": 6,
   "metadata": {},
   "outputs": [],
   "source": [
    "def crossover(population,cross_prob=1):\n",
    "    new_population = []\n",
    "    \n",
    "    for i in range(0,len(population)//2):\n",
    "        indiv1 = copy.deepcopy(population[2*i])\n",
    "        indiv2 = copy.deepcopy(population[2*i+1])\n",
    "        if random.random()<cross_prob:\n",
    "            # zvolime index krizeni nahodne\n",
    "            crossover_point = random.randint(0, len(indiv1)) \n",
    "            end2 = indiv2[:crossover_point]\n",
    "            indiv2[:crossover_point] = indiv1[:crossover_point]\n",
    "            indiv1[:crossover_point] = end2\n",
    "\n",
    "        new_population.append(indiv1)\n",
    "        new_population.append(indiv2)\n",
    "        \n",
    "    return new_population"
   ]
  },
  {
   "cell_type": "markdown",
   "metadata": {},
   "source": [
    "Povedlo se nám vytvořit nové jedince pomocí křížení jejich rodičů. Následně na každém z nich provedeme mutaci tak, že si u každého bitu náhodně hodíme kostkou a s malou pravděpodobností ho změníme. "
   ]
  },
  {
   "cell_type": "code",
   "execution_count": 7,
   "metadata": {},
   "outputs": [],
   "source": [
    "def mutation(population,indiv_mutation_prob=0.1,bit_mutation_prob=0.2):\n",
    "    new_population = []\n",
    "    \n",
    "    for i in range(0,len(population)):\n",
    "        individual = copy.deepcopy(population[i])\n",
    "        if  random.random()< indiv_mutation_prob:\n",
    "            for j in range(0,len(individual)):\n",
    "                if random.random() < bit_mutation_prob:\n",
    "                    if individual[j]==1:\n",
    "                        individual[j] = 0\n",
    "                    else:\n",
    "                        individual[j] = 1\n",
    "                        \n",
    "        new_population.append(individual)\n",
    "        \n",
    "    return new_population"
   ]
  },
  {
   "cell_type": "markdown",
   "metadata": {},
   "source": [
    "Když už tedy máme napsané všechny funkce potřebné pro genetické algoritmus pro tento úkoů, můžeme se zkusit podívat, jak by vypadal jeden krok evoluce."
   ]
  },
  {
   "cell_type": "code",
   "execution_count": 8,
   "metadata": {},
   "outputs": [
    {
     "name": "stdout",
     "output_type": "stream",
     "text": [
      "Random population:\n",
      "[[0 1 1 1 1 1 0 1]\n",
      " [0 0 0 0 0 0 0 1]\n",
      " [0 0 1 1 1 1 1 1]\n",
      " [0 1 0 0 0 0 0 0]\n",
      " [1 0 1 0 0 0 0 0]\n",
      " [0 1 1 1 1 0 1 1]]\n",
      "Population after selection:\n",
      "[[0 1 0 0 0 0 0 0]\n",
      " [0 0 1 1 1 1 1 1]\n",
      " [0 1 0 0 0 0 0 0]\n",
      " [0 1 1 1 1 1 0 1]\n",
      " [0 1 0 0 0 0 0 0]\n",
      " [0 0 1 1 1 1 1 1]]\n",
      "Population after crossover:\n",
      "[[0 1 0 0 0 0 0 0]\n",
      " [0 1 0 0 0 0 0 0]\n",
      " [0 1 0 0 0 0 0 0]\n",
      " [0 1 0 0 0 0 0 0]\n",
      " [0 1 0 0 0 0 0 0]\n",
      " [0 0 1 1 1 1 1 1]]\n",
      "Population after mutation:\n",
      "[[0 1 0 0 0 0 0 0]\n",
      " [0 1 0 0 0 0 0 0]\n",
      " [0 1 0 0 0 0 0 0]\n",
      " [0 1 0 0 0 0 0 0]\n",
      " [0 1 0 0 0 0 0 0]\n",
      " [0 0 1 1 1 1 1 1]]\n"
     ]
    }
   ],
   "source": [
    "# vytvorime si nahodnou pocatecni populaci \n",
    "population = random_population(6,8)\n",
    "print('Random population:')\n",
    "print(np.array(population))\n",
    "\n",
    "fitness_value = list(map(fitness, population))\n",
    "selected_population = selection(population,fitness_value)\n",
    "print('Population after selection:')\n",
    "print(np.array(selected_population))\n",
    "\n",
    "cross_population = crossover(selected_population)\n",
    "print('Population after crossover:')\n",
    "print(np.array(cross_population))\n",
    "\n",
    "mutated_population = mutation(cross_population)\n",
    "print('Population after mutation:')\n",
    "print(np.array(mutated_population))"
   ]
  },
  {
   "cell_type": "markdown",
   "metadata": {},
   "source": [
    "Vidíme, že nám jednotlivé kroky fungují (další jupí!), takže je na závěr spojíme do jednoho parádního genetického algoritmu, kde si tedy vytvoříme počáteční náhodnou populaci a v několika epochách budem vždy vytvářet novou populaci z té staré pomocí selekce, křížení a mutace."
   ]
  },
  {
   "cell_type": "code",
   "execution_count": 9,
   "metadata": {},
   "outputs": [],
   "source": [
    "def evolution(population_size, individual_size, max_generations):\n",
    "    max_fitness = []\n",
    "    population = random_population(population_size,individual_size)\n",
    "    \n",
    "    for i in range(0,max_generations):\n",
    "        fitness_value = list(map(fitness, population))\n",
    "        max_fitness.append(max(fitness_value))\n",
    "        parents = selection(population,fitness_value)\n",
    "        children = crossover(parents)\n",
    "        mutated_children = mutation(children)\n",
    "        population = mutated_children\n",
    "        \n",
    "    # spocitame fitness i pro posledni populaci\n",
    "    fitness_value = list(map(fitness, population))\n",
    "    max_fitness.append(max(fitness_value))\n",
    "    best_individual = population[np.argmax(fitness_value)]\n",
    "    \n",
    "    return best_individual, population, max_fitness"
   ]
  },
  {
   "cell_type": "markdown",
   "metadata": {},
   "source": [
    "Na závěr tedy zkusíme náš krásný genetický algoritmus na OneMAX problém pustit a uvidíme, co se bude dít."
   ]
  },
  {
   "cell_type": "code",
   "execution_count": 10,
   "metadata": {},
   "outputs": [
    {
     "name": "stdout",
     "output_type": "stream",
     "text": [
      "best fitness:  39\n",
      "best individual:  [1 0 0 1 1 1 1 0 1 1 0 1 1 0 0 1 1 1 1 0 1 1 1 1 1 1 0 0 1 1 0 1 1 1 1 1 1\n",
      " 1 1 1 1 1 1 1 1 0 1 1 1 1]\n"
     ]
    },
    {
     "data": {
      "text/plain": [
       "Text(0.5,0,'Generace')"
      ]
     },
     "execution_count": 10,
     "metadata": {},
     "output_type": "execute_result"
    },
    {
     "data": {
      "image/png": "[encoded data removed]",
      "text/plain": [
       "<Figure size 432x288 with 1 Axes>"
      ]
     },
     "metadata": {},
     "output_type": "display_data"
    }
   ],
   "source": [
    "best, population, max_fitness = evolution(population_size=100,individual_size=50,max_generations=100)\n",
    "\n",
    "print('best fitness: ', fitness(best))\n",
    "print('best individual: ', best)\n",
    "\n",
    "\n",
    "plt.plot(max_fitness)\n",
    "plt.ylabel('Fitness')\n",
    "plt.xlabel('Generace')\n"
   ]
  },
  {
   "cell_type": "markdown",
   "metadata": {},
   "source": [
    "##  Úkol na cvičení"
   ]
  },
  {
   "cell_type": "markdown",
   "metadata": {},
   "source": [
    "Vaším úkolem bude upravit výše napsaný algoritmus tak, aby uměl vyřešit problém součtu podmnožiny, který spočívá v nalezení podmnožiny dané množiny takové, že součet prvků v té nalezené podmnožine se rovná nějakému přesně zadanému číslu. V optimalizační verzi se tedy tento problém snaží minimalizovat rozdíl mezi zadanou hodnotou a součtem podmnožiny. Následně si zkuste hrát s různými druhy křížení, vyzkoušejte si například nahradit výše napsané jednobodové křížení za vícebodové nebo uniformní křížení a sledujte, jak se bude evoluce měnit."
   ]
  },
  {
   "cell_type": "code",
   "execution_count": 11,
   "metadata": {},
   "outputs": [
    {
     "name": "stdout",
     "output_type": "stream",
     "text": [
      "6200 [103, 111, 140, 143, 150, 115, 149, 138, 133, 139, 118, 127, 119, 111, 103, 109, 110, 141, 141, 143, 104, 139, 108, 149, 113, 113, 106, 118, 105, 122, 124, 142, 101, 150, 104, 128, 134, 120, 121, 126, 123, 117, 142, 124, 146, 111, 134, 123, 146, 143, 143, 136, 138, 111, 134, 149, 106, 100, 142, 102, 119, 124, 132, 125, 140, 150, 115, 127, 109, 120, 141, 108, 109, 123, 111, 121, 110, 119, 121, 140, 137, 101, 126, 105, 121, 113, 107, 123, 135, 132, 124, 147, 121, 129, 115, 104, 100, 108, 118, 131]\n"
     ]
    }
   ],
   "source": [
    "random_set = []\n",
    "for i in range(0,100):\n",
    "    random_set.append(random.randint(100,150)) \n",
    "    \n",
    "# for cyklus vvyse se da napsat i v jednom prikazu\n",
    "random_set = [random.randint(100,150) for i in range(0,100)]\n",
    "    \n",
    "value = sum(random_set)//2\n",
    "print(value, random_set)"
   ]
  },
  {
   "cell_type": "markdown",
   "metadata": {},
   "source": [
    "## Knihovna Deap \n",
    "\n",
    "V minulém cvičení jsme si sami zkusili napsat jednoduchý evoluční algoritmus pro OneMax problém. Nyní se podíváme na tento problém znovu a ukážeme si knihovnu, která má námi ručně psané funkce už naimplementované a usnadní nám tedy práci s psaním evolučního algoritmu, protože si ho nemusíme psát celý sami.\n",
    "\n",
    "Deap je knihovna určená pro implementaci nejběžnějších evolučních technik jako například klasický evoluční algoritmus, genetecké programování, evoluční strategie, optimalizaci pomocí hejna a spoustu dalších metod.\n",
    "\n",
    "### OneMax problém\n",
    "\n",
    "K vyřešení OneMax problému je tedy potřeba definovat jedince, pak si vytvořit celou populaci a pak přidat operátory pro její evoluci. Začneme nejprv importy, které budeme v naší evoluci potřebovat."
   ]
  },
  {
   "cell_type": "code",
   "execution_count": 2,
   "metadata": {},
   "outputs": [],
   "source": [
    "import array\n",
    "import random\n",
    "import numpy as np\n",
    "import math\n",
    "\n",
    "from deap import algorithms\n",
    "from deap import base\n",
    "from deap import creator\n",
    "from deap import tools"
   ]
  },
  {
   "cell_type": "markdown",
   "metadata": {},
   "source": [
    "Protože skutečná struktura jedinců v genetických algoritmech závisí na cílovém úkolu, DEAP neobsahuje žádnou explicitní strukturu, ale poskytuje raději metodu pro vytváření kontejneru s danými atributy, ke kterými se asociuje i fitness. Této metodě se říká *deap.creator* a můžeme s její pomocí velmi jednoduchým způsobem vytvořit vlastní jedince vhodné pro dané úkol. \n",
    "\n",
    "Vytvoříme tedy dvě třídy: První se bude jmenovat *FitnessMax*, bude mít base class *Fitness*, ze které dědí její vlastnosti, a všechny váhy budou 1, protože chceme max fitness jedince. Druhá třída bude *Individual* a ta bude popisovat našeho jedince, který bude pole 0 a 1 a bude mít námi výše vytvořenou fitness. Námi vytvořené třídy se potom dají volat přímo z *creator*, protože jsou jeho součástí."
   ]
  },
  {
   "cell_type": "code",
   "execution_count": 3,
   "metadata": {},
   "outputs": [],
   "source": [
    "creator.create(\"FitnessMax\", base.Fitness, weights=(1.0,))\n",
    "creator.create(\"Individual\", array.array, typecode='b', fitness=creator.FitnessMax)"
   ]
  },
  {
   "cell_type": "markdown",
   "metadata": {},
   "source": [
    "Nyní použijeme tyto třídy k vytvoření typů představujících naše jedince a pak i celou populaci jedinců. Tyto všechny objekty bydou uloženy v kontejneru knihovny DEAP zvané *toolbox*. Ta obsahuje dvě metody pro přidání a odebrání obsahu -- *register()* a *unregister()*."
   ]
  },
  {
   "cell_type": "code",
   "execution_count": 4,
   "metadata": {},
   "outputs": [],
   "source": [
    "toolbox = base.Toolbox()"
   ]
  },
  {
   "cell_type": "markdown",
   "metadata": {},
   "source": [
    "Nejprve si vytvoříme jedince jakožto posloupnost 1 a 0 a následně vytvoříme celou populaci. Generátor *attr_bool* zvolí náhodně buď 0, nebo 1. Dva inicializátory *individual* a *population* vytvoří instanci jednotlivce a populace. Naši jednotlivci budou generováni pomocí funkce *initRepeat()*, která opakovaně volá výše vytvořenou třídu jedince *Individual* a pomocí *attr_bool* vytvaří náhodné jedince velikosti 100. Následně je obdobným způsobem vygenerovaná celá populace těchto náhodných jedinců.\n"
   ]
  },
  {
   "cell_type": "code",
   "execution_count": 5,
   "metadata": {},
   "outputs": [],
   "source": [
    "toolbox.register(\"attr_bool\", random.randint, 0, 1)\n",
    "toolbox.register(\"individual\", tools.initRepeat, creator.Individual, toolbox.attr_bool, 100)\n",
    "toolbox.register(\"population\", tools.initRepeat, list, toolbox.individual)"
   ]
  },
  {
   "cell_type": "markdown",
   "metadata": {},
   "source": [
    "Dále je třeba si zadefinovat fitness funkci. Ta bude velice jednoduchá, protože je potřeba pouze zjistit počet jedniček v jedinci."
   ]
  },
  {
   "cell_type": "code",
   "execution_count": 6,
   "metadata": {},
   "outputs": [],
   "source": [
    "def evalOneMax(individual):\n",
    "    return sum(individual),"
   ]
  },
  {
   "cell_type": "markdown",
   "metadata": {},
   "source": [
    "Teď už je jen potřeba registrace genetických operátorů, abychom mohli používat evoluci. Potřebujeme evaluaci pomocí naší výše vytvořené fitness, křížení, mutaci a selekci jedinců. Dnes si pro změnu zkusíme turnajovou selekci."
   ]
  },
  {
   "cell_type": "code",
   "execution_count": 7,
   "metadata": {},
   "outputs": [],
   "source": [
    "toolbox.register(\"evaluate\", evalOneMax)\n",
    "toolbox.register(\"mate\", tools.cxTwoPoint)\n",
    "toolbox.register(\"mutate\", tools.mutFlipBit, indpb=0.05)\n",
    "toolbox.register(\"select\", tools.selTournament, tournsize=3)"
   ]
  },
  {
   "cell_type": "markdown",
   "metadata": {},
   "source": [
    "Nyní máme definovanou reprezentaci a genetické operátory a zbývá už jen pustit evoluci. Vytvoříme si populaci *n* jedinců, zároveň si v *hof* pamatujeme nejlepší jedince pro každou populaci, a nastavíme si pro zajímavost několik statistických hodnot pro každou populaci -- průměr, min, max a odchylku. Pak už jen zbývá pustit jednoduchý evoluční algoritmus pomocí *eaSimple* na danou populaci, s  daným toolboxem, pravděpodobnostmi operací a dalšími parametry."
   ]
  },
  {
   "cell_type": "code",
   "execution_count": 8,
   "metadata": {},
   "outputs": [
    {
     "name": "stdout",
     "output_type": "stream",
     "text": [
      "gen\tnevals\tavg    \tstd    \tmin\tmax\n",
      "0  \t300   \t50.4933\t5.33822\t34 \t64 \n",
      "1  \t181   \t54.8333\t4.34958\t44 \t66 \n",
      "2  \t191   \t58.4567\t3.45564\t47 \t68 \n",
      "3  \t199   \t60.9533\t2.9025 \t52 \t68 \n",
      "4  \t167   \t62.96  \t2.90719\t47 \t71 \n",
      "5  \t175   \t64.99  \t2.84896\t57 \t73 \n",
      "6  \t168   \t66.9333\t2.80515\t58 \t74 \n",
      "7  \t187   \t68.9167\t2.82661\t59 \t76 \n",
      "8  \t171   \t70.8867\t2.4455 \t62 \t76 \n",
      "9  \t155   \t72.69  \t2.62435\t62 \t80 \n",
      "10 \t171   \t74.1233\t2.61052\t64 \t82 \n",
      "11 \t191   \t75.64  \t2.70007\t65 \t82 \n",
      "12 \t171   \t77.18  \t2.55752\t69 \t84 \n",
      "13 \t173   \t78.7667\t2.24475\t69 \t84 \n",
      "14 \t185   \t79.9067\t2.36459\t72 \t86 \n",
      "15 \t205   \t81.4433\t2.3805 \t72 \t88 \n",
      "16 \t163   \t82.6767\t2.22534\t74 \t88 \n",
      "17 \t175   \t83.6833\t2.37411\t76 \t88 \n",
      "18 \t181   \t84.8067\t2.30274\t74 \t90 \n",
      "19 \t179   \t85.6233\t2.51955\t74 \t91 \n",
      "20 \t178   \t86.58  \t2.16416\t78 \t91 \n",
      "21 \t173   \t87.2533\t2.33148\t78 \t91 \n",
      "22 \t155   \t88.06  \t2.15787\t79 \t92 \n",
      "23 \t187   \t88.37  \t2.20146\t80 \t92 \n",
      "24 \t184   \t89.2767\t1.97825\t82 \t94 \n",
      "25 \t198   \t89.7767\t2.3805 \t80 \t95 \n",
      "26 \t185   \t90.6233\t2.41553\t80 \t96 \n",
      "27 \t160   \t91.62  \t2.25291\t82 \t96 \n",
      "28 \t182   \t92.45  \t2.36379\t83 \t97 \n",
      "29 \t171   \t93.2933\t2.46589\t84 \t97 \n",
      "30 \t184   \t94.1433\t2.39919\t84 \t97 \n",
      "31 \t161   \t94.91  \t2.40594\t85 \t98 \n",
      "32 \t181   \t95.4633\t2.28954\t85 \t99 \n",
      "33 \t177   \t96.02  \t2.40962\t88 \t99 \n",
      "34 \t182   \t96.7733\t2.09172\t88 \t99 \n",
      "35 \t177   \t97.0433\t2.32554\t86 \t100\n",
      "36 \t161   \t97.3567\t2.50122\t88 \t100\n",
      "37 \t178   \t97.9167\t2.34302\t90 \t100\n",
      "38 \t176   \t98.4   \t2.11345\t87 \t100\n",
      "39 \t202   \t98.2467\t2.61007\t88 \t100\n",
      "40 \t180   \t98.8333\t2.11003\t90 \t100\n"
     ]
    }
   ],
   "source": [
    "# pseudonahodny generator cisel, diky kteremu jsou jednotlive behy stejne pro snazsi ladeni\n",
    "random.seed(64) \n",
    "\n",
    "pop = toolbox.population(n=300)\n",
    "hof = tools.HallOfFame(1)\n",
    "stats = tools.Statistics(lambda ind: ind.fitness.values)\n",
    "stats.register(\"avg\", np.mean)\n",
    "stats.register(\"std\", np.std)\n",
    "stats.register(\"min\", np.min)\n",
    "stats.register(\"max\", np.max)\n",
    "\n",
    "pop, log = algorithms.eaSimple(pop, toolbox, cxpb=0.5, mutpb=0.2, ngen=40, \n",
    "                               stats=stats, halloffame=hof, verbose=True)\n",
    "\n"
   ]
  },
  {
   "cell_type": "code",
   "execution_count": null,
   "metadata": {},
   "outputs": [],
   "source": []
  }
 ],
 "metadata": {
  "kernelspec": {
   "display_name": "Python 3",
   "language": "python",
   "name": "python3"
  },
  "language_info": {
   "codemirror_mode": {
    "name": "ipython",
    "version": 3
   },
   "file_extension": ".py",
   "mimetype": "text/x-python",
   "name": "python",
   "nbconvert_exporter": "python",
   "pygments_lexer": "ipython3",
   "version": "3.6.5"
  }
 },
 "nbformat": 4,
 "nbformat_minor": 2
}
