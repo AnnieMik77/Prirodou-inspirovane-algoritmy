{
 "cells": [
  {
   "cell_type": "markdown",
   "metadata": {},
   "source": [
    "# Evoluční algoritmy"
   ]
  },
  {
   "cell_type": "markdown",
   "metadata": {},
   "source": [
    "Zkusíme si naprogramovat jednoduchý genetický algoritmus pro problém OneMAX. OneMAX je úloha, kdy chceme, aby jedinec zapsaný jako binární řetězec obsahovel co nejvíce jedniček."
   ]
  },
  {
   "cell_type": "code",
   "execution_count": 404,
   "metadata": {},
   "outputs": [],
   "source": [
    "import numpy as np\n",
    "import random\n",
    "import copy\n",
    "%matplotlib inline\n",
    "import matplotlib.pyplot as plt"
   ]
  },
  {
   "cell_type": "markdown",
   "metadata": {},
   "source": [
    "Nejprve si napíšeme funkci, co vytvoří náhodnou populaci jedinců velikosti *population_size*, kde každý jedince bude mít velikost *individual_size*."
   ]
  },
  {
   "cell_type": "code",
   "execution_count": 416,
   "metadata": {},
   "outputs": [],
   "source": [
    "def random_population(population_size, individual_size):\n",
    "    population = []\n",
    "    \n",
    "    for i in range(0,population_size):\n",
    "        individual = np.random.choice([0, 1], size=(individual_size,), p=[1/2, 1/2])\n",
    "        population.append(individual)\n",
    "        \n",
    "    return population"
   ]
  },
  {
   "cell_type": "markdown",
   "metadata": {},
   "source": [
    "Pro každou úlohu řešenou evolučním algoritmem je důležité správně definovat fitness funkci, která bude říkat, jak moc jsou jedinci dobří vzhledem k populaci a kterou se bude algoritmus snažit maximalizovat. Pro OneMAX problém bude ideální fitness funkce počet jedniček v jedinci."
   ]
  },
  {
   "cell_type": "code",
   "execution_count": 423,
   "metadata": {},
   "outputs": [],
   "source": [
    "def fitness(individual):\n",
    "    return sum(individual)"
   ]
  },
  {
   "cell_type": "markdown",
   "metadata": {},
   "source": [
    "Dále si napíšeme funkci, která bude dělat selekci jedinců. Použijeme ruletovou selekci, tedy každému jedinci přiřadíme výseč rulety úměrnou jeho fitness a z ní pak náhodně vybíráme jedince, kde lepší jedinci mají větší šanci být vybráni. Naštěstí knihovna random obsahuje funkci choices, která toto umí a nemusíme si to psát sami (jupí!)."
   ]
  },
  {
   "cell_type": "code",
   "execution_count": 418,
   "metadata": {},
   "outputs": [],
   "source": [
    "def selection(population,fitness_value):\n",
    "    return copy.deepcopy(random.choices(population, weights=fitness_value, k=len(population))) "
   ]
  },
  {
   "cell_type": "markdown",
   "metadata": {},
   "source": [
    "Máme vybrané dvojice jedinců, tak na nich provedeme křížení. Budeme dělat jednobodové křížení, teda si náhodně zvolíme bod v jedinci a hodnoty před tímto bodem vezmeme z jednoho rodiče a hodnoty po tomto bodu z druhého."
   ]
  },
  {
   "cell_type": "code",
   "execution_count": 419,
   "metadata": {},
   "outputs": [],
   "source": [
    "def crossover(population,cross_prob=1):\n",
    "    new_population = []\n",
    "    \n",
    "    for i in range(0,len(population)//2):\n",
    "        indiv1 = copy.deepcopy(population[2*i])\n",
    "        indiv2 = copy.deepcopy(population[2*i+1])\n",
    "        if random.random()<cross_prob:\n",
    "            # zvolime index krizeni nahodne\n",
    "            crossover_point = random.randint(0, len(indiv1)) \n",
    "            end2 = indiv2[:crossover_point]\n",
    "            indiv2[:crossover_point] = indiv1[:crossover_point]\n",
    "            indiv1[:crossover_point] = end2\n",
    "\n",
    "        new_population.append(indiv1)\n",
    "        new_population.append(indiv2)\n",
    "        \n",
    "    return new_population"
   ]
  },
  {
   "cell_type": "markdown",
   "metadata": {},
   "source": [
    "Povedlo se nám vytvořit nové jedince pomocí křížení jejich rodičů. Následně na každém z nich provedeme mutaci tak, že si u každého bitu náhodně hodíme kostkou a s malou pravděpodobností ho změníme. "
   ]
  },
  {
   "cell_type": "code",
   "execution_count": 424,
   "metadata": {},
   "outputs": [],
   "source": [
    "def mutation(population,indiv_mutation_prob=0.1,bit_mutation_prob=0.2):\n",
    "    new_population = []\n",
    "    \n",
    "    for i in range(0,len(population)):\n",
    "        individual = copy.deepcopy(population[i])\n",
    "        if  random.random()< indiv_mutation_prob:\n",
    "            for j in range(0,len(individual)):\n",
    "                if random.random() < bit_mutation_prob:\n",
    "                    if individual[j]==1:\n",
    "                        individual[j] = 0\n",
    "                    else:\n",
    "                        individual[j] = 1\n",
    "                        \n",
    "        new_population.append(individual)\n",
    "        \n",
    "    return new_population"
   ]
  },
  {
   "cell_type": "markdown",
   "metadata": {},
   "source": [
    "Když už tedy máme napsané všechny funkce potřebné pro genetické algoritmus pro tento úkoů, můžeme se zkusit podívat, jak by vypadal jeden krok evoluce."
   ]
  },
  {
   "cell_type": "code",
   "execution_count": 425,
   "metadata": {},
   "outputs": [
    {
     "name": "stdout",
     "output_type": "stream",
     "text": [
      "Random population:\n",
      "[[1 1 1 1 1 0 0 0]\n",
      " [1 0 0 0 0 1 0 1]\n",
      " [1 0 1 0 1 0 1 0]\n",
      " [1 0 0 0 0 1 0 0]\n",
      " [1 1 0 0 1 0 1 0]\n",
      " [0 1 0 0 1 0 1 1]]\n",
      "Population after selection:\n",
      "[[1 1 1 1 1 0 0 0]\n",
      " [1 0 0 0 0 1 0 1]\n",
      " [1 1 1 1 1 0 0 0]\n",
      " [1 1 0 0 1 0 1 0]\n",
      " [1 1 1 1 1 0 0 0]\n",
      " [1 1 1 1 1 0 0 0]]\n",
      "Population after crossover:\n",
      "[[1 1 1 1 1 0 0 0]\n",
      " [1 1 1 1 0 1 0 1]\n",
      " [1 1 1 1 1 0 0 0]\n",
      " [1 1 0 0 1 0 1 0]\n",
      " [1 1 1 1 1 0 0 0]\n",
      " [1 1 1 1 1 0 0 0]]\n",
      "Population after mutation:\n",
      "[[1 1 1 1 1 0 0 0]\n",
      " [1 1 1 0 0 1 1 1]\n",
      " [0 1 1 1 1 0 1 0]\n",
      " [1 1 0 0 1 0 1 0]\n",
      " [1 1 1 1 1 0 0 0]\n",
      " [1 1 1 1 1 0 0 0]]\n"
     ]
    }
   ],
   "source": [
    "# vytvorime si nahodnou pocatecni populaci \n",
    "population = random_population(6,8)\n",
    "print('Random population:')\n",
    "print(np.array(population))\n",
    "\n",
    "fitness_value = list(map(fitness, population))\n",
    "selected_population = selection(population,fitness_value)\n",
    "print('Population after selection:')\n",
    "print(np.array(selected_population))\n",
    "\n",
    "cross_population = crossover(selected_population)\n",
    "print('Population after crossover:')\n",
    "print(np.array(cross_population))\n",
    "\n",
    "mutated_population = mutation(cross_population)\n",
    "print('Population after mutation:')\n",
    "print(np.array(mutated_population))"
   ]
  },
  {
   "cell_type": "markdown",
   "metadata": {},
   "source": [
    "Vidíme, že nám jednotlivé kroky fungují (další jupí!), takže je na závěr spojíme do jednoho parádního genetického algoritmu, kde si tedy vytvoříme počáteční náhodnou populaci a v několika epochách budem vždy vytvářet novou populaci z té staré pomocí selekce, křížení a mutace."
   ]
  },
  {
   "cell_type": "code",
   "execution_count": 426,
   "metadata": {},
   "outputs": [],
   "source": [
    "def evolution(population_size, individual_size, max_generations):\n",
    "    max_fitness = []\n",
    "    population = random_population(population_size,individual_size)\n",
    "    \n",
    "    for i in range(0,max_generations):\n",
    "        fitness_value = list(map(fitness, population))\n",
    "        max_fitness.append(max(fitness_value))\n",
    "        parents = selection(population,fitness_value)\n",
    "        children = crossover(parents)\n",
    "        mutated_children = mutation(children)\n",
    "        population = mutated_children\n",
    "        \n",
    "    # spocitame fitness i pro posledni populaci\n",
    "    fitness_value = list(map(fitness, population))\n",
    "    max_fitness.append(max(fitness_value))\n",
    "    best_individual = population[max(fitness_value)]\n",
    "    print(max_fitness)\n",
    "    \n",
    "    return best_individual, population, max_fitness"
   ]
  },
  {
   "cell_type": "markdown",
   "metadata": {},
   "source": [
    "Na závěr tedy zkusíme náš krásný genetický algoritmus na OneMAX problém pustit a uvidíme, co se bude dít."
   ]
  },
  {
   "cell_type": "code",
   "execution_count": 433,
   "metadata": {},
   "outputs": [
    {
     "name": "stdout",
     "output_type": "stream",
     "text": [
      "[33, 33, 32, 33, 33, 33, 35, 35, 35, 37, 37, 37, 36, 36, 36, 36, 36, 37, 38, 36, 37, 37, 37, 37, 37, 37, 38, 38, 38, 40, 40, 40, 39, 42, 42, 39, 38, 38, 40, 41, 41, 42, 42, 43, 43, 43, 43, 43, 43, 43, 40, 40, 40, 40, 40, 40, 40, 40, 39, 40, 39, 39, 39, 42, 43, 43, 42, 43, 42, 41, 43, 43, 43, 43, 43, 43, 43, 44, 42, 42, 42, 42, 42, 42, 43, 43, 44, 42, 43, 44, 44, 43, 45, 45, 44, 46, 46, 46, 46, 44, 44]\n",
      "best fitness:  35\n",
      "best individual:  [1 0 0 1 1 0 1 1 1 1 1 0 1 0 0 1 1 0 0 1 1 0 1 1 1 0 1 1 1 1 1 1 0 1 1 0 0\n",
      " 0 1 1 1 1 1 1 1 1 1 0 1 1]\n"
     ]
    },
    {
     "data": {
      "text/plain": [
       "Text(0.5,0,'Generace')"
      ]
     },
     "execution_count": 433,
     "metadata": {},
     "output_type": "execute_result"
    },
    {
     "data": {
      "image/png": "[encoded data removed]",
      "text/plain": [
       "<Figure size 432x288 with 1 Axes>"
      ]
     },
     "metadata": {},
     "output_type": "display_data"
    }
   ],
   "source": [
    "best, population, max_fitness = evolution(population_size=100,individual_size=50,max_generations=100)\n",
    "\n",
    "print('best fitness: ', fitness(best))\n",
    "print('best individual: ', best)\n",
    "\n",
    "\n",
    "plt.plot(max_fitness)\n",
    "plt.ylabel('Fitness')\n",
    "plt.xlabel('Generace')\n"
   ]
  },
  {
   "cell_type": "markdown",
   "metadata": {},
   "source": [
    "# Úkol na cvičení"
   ]
  },
  {
   "cell_type": "markdown",
   "metadata": {},
   "source": [
    "Vaším úkolem bude upravit výše napsaný algoritmus tak, aby uměl vyřešit problém součtu podmnožiny, který spočívá v nalezení podmnožiny dané množiny takové, že součet prvků v té nalezené podmnožine se rovná nějakému přesně zadanému číslu. V optimalizační verzi se tedy tento problém snaží minimalizovat rozdíl mezi zadanou hodnotou a součtem podmnožiny."
   ]
  },
  {
   "cell_type": "code",
   "execution_count": 432,
   "metadata": {},
   "outputs": [
    {
     "name": "stdout",
     "output_type": "stream",
     "text": [
      "6213 [107, 102, 146, 109, 140, 121, 149, 123, 106, 134, 119, 125, 130, 126, 115, 145, 140, 143, 104, 148, 126, 150, 150, 109, 118, 139, 101, 109, 133, 135, 107, 149, 107, 144, 137, 150, 136, 135, 109, 142, 109, 117, 122, 112, 148, 101, 115, 109, 117, 120, 101, 106, 131, 104, 118, 122, 101, 110, 124, 125, 103, 114, 137, 148, 140, 109, 126, 148, 113, 111, 118, 108, 121, 130, 118, 134, 119, 140, 116, 120, 123, 141, 137, 104, 112, 122, 134, 116, 103, 148, 135, 123, 143, 139, 109, 148, 143, 110, 115, 118]\n"
     ]
    }
   ],
   "source": [
    "random_set = []\n",
    "for i in range(0,100):\n",
    "    random_set.append(random.randint(100,150)) \n",
    "    \n",
    "# for cyklus vvyse se da napsat i v jednom prikazu\n",
    "random_set = [random.randint(100,150) for i in range(0,100)]\n",
    "    \n",
    "value = sum(random_set)//2\n",
    "print(value, random_set)"
   ]
  }
 ],
 "metadata": {
  "kernelspec": {
   "display_name": "Python 3",
   "language": "python",
   "name": "python3"
  },
  "language_info": {
   "codemirror_mode": {
    "name": "ipython",
    "version": 3
   },
   "file_extension": ".py",
   "mimetype": "text/x-python",
   "name": "python",
   "nbconvert_exporter": "python",
   "pygments_lexer": "ipython3",
   "version": "3.6.5"
  }
 },
 "nbformat": 4,
 "nbformat_minor": 2
}
