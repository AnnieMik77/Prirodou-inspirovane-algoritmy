{
 "cells": [
  {
   "cell_type": "markdown",
   "metadata": {},
   "source": [
    "# Evoluční algoritmy - spojitá a kombinatorická optimalizace\n",
    "\n",
    "Minule jsem si ukazovali jednoduchý genetický algoritmus, který pracoval s binárními jedinci. Dnes se podíváme na spojité a celočíselné reprezentace jedinců a na další druhy evolučních operátorů."
   ]
  },
  {
   "cell_type": "markdown",
   "metadata": {},
   "source": [
    "## Minimalizace Rastrigin funkce"
   ]
  },
  {
   "cell_type": "markdown",
   "metadata": {},
   "source": [
    "V následujícím cvičení si vyzkoušíme napsat jednoduchý evoluční algoritmus pro minimalizace [Rastrigin funkce](https://en.wikipedia.org/wiki/Rastrigin_function). Tato funkce je typickým příkladem nelineární funkce a běžně se používá při testování chování optimalizačních algoritmů. Nalezení jejího minima je složité, protože obsahuje spoustu lokálních minim. \n",
    "\n"
   ]
  },
  {
   "cell_type": "code",
   "execution_count": 2,
   "metadata": {},
   "outputs": [],
   "source": [
    "import numpy as np\n",
    "import random\n",
    "import copy\n",
    "import math\n",
    "%matplotlib inline\n",
    "import matplotlib.pyplot as plt"
   ]
  },
  {
   "cell_type": "markdown",
   "metadata": {},
   "source": [
    "Nejprve si definujem, jak tedy vypadá ona výše zmíněná funkce, kterou budeme chtít minimalizovat. Potom je třeba si rozmyslet, jak bude vypadat jedinec. Bude to bude floating point vektor, kde hodnoty budou čísla z intervalu [-5.12,5.12]. Pro něj si napíšeme svoje operátory křížení a mutace. Křížení může být aritmetické, například vážený průměr dvou jedinců, nebo strukturální, kdy opět prohazujeme části jedinců. Mutace může být buď netížená, což znamená, že se pro mutovanou pozici vygeneruje nové číslo z daného rozsahu hodnot, nebo zatížená, kdy k hodnotě v jedinci přičtu nějaké číslo z normálního rozdělení s danou odchylkou (například 1) a nulovou střední hodnotou."
   ]
  },
  {
   "cell_type": "code",
   "execution_count": 3,
   "metadata": {},
   "outputs": [],
   "source": [
    "# hodnota fitness funkce je vlastne hodnata rastrigin funkce v danem bode\n",
    "def fitness(individual):\n",
    "    N = len(individual)\n",
    "    A = 10\n",
    "    value = A*N\n",
    "    for i in range(0,len(individual)):\n",
    "        value += individual[i]**2 - A*math.cos(2*math.pi*individual[i])\n",
    "    return -value, \n",
    "\n",
    "# nezatizena mutace, ktera pro mutovanou pozici vybere nove cislo z rozsahu hodnot\n",
    "def mutation_switch(population,individual_mutation_prob=0.2,value_mutation_prob=0.1):\n",
    "    new_population = []\n",
    "    for i in range(0,len(population)):\n",
    "        individual = copy.deepcopy(population[i])\n",
    "        if random.random()< individual_mutation_prob:\n",
    "            for i in range(0,len(individual)):\n",
    "                if random.random() < value_mutation_prob:\n",
    "                    individual[i] = np.random.uniform(-5.12, 5.12)\n",
    "        new_population.append(individual)\n",
    "    return new_population\n",
    "\n",
    "# krizeni pomoci prumer dvou hodnot\n",
    "def crossover_mean(population, cross_prob=0.8, alpha=0.25):\n",
    "    new_population = []\n",
    "    \n",
    "    for i in range(0,len(population)//2):\n",
    "        indiv1 = copy.deepcopy(population[2*i])\n",
    "        indiv2 = copy.deepcopy(population[2*i+1])\n",
    "        child1 = indiv1\n",
    "        child2 = indiv2\n",
    "        if random.random()<cross_prob:\n",
    "            for i in range(0, len(indiv1)):\n",
    "                child1[i] = alpha*indiv1[i] + (1-alpha)*indiv2[i]\n",
    "                child2[i] = (1-alpha)*indiv1[i] + alpha*indiv2[i]\n",
    "        new_population.append(child1)\n",
    "        new_population.append(child2)\n",
    "        \n",
    "    return new_population\n",
    "\n",
    "# definujeme si funkci na na vytvoreni nahodne populace\n",
    "def random_population(population_size, individual_size):\n",
    "    population = []\n",
    "    \n",
    "    for i in range(0,population_size):\n",
    "        individual = np.random.uniform(-5.12, 5.12, size=(individual_size,))\n",
    "        population.append(individual)\n",
    "        \n",
    "    return population\n",
    "\n",
    "# definujeme si turnajovou selekci \n",
    "def selection(population,fitness_value, k): \n",
    "    new_population = []\n",
    "    for i in range(0,len(population)):\n",
    "        individuals = []\n",
    "        fitnesses = []\n",
    "        for _ in range(0,k):\n",
    "            idx = random.randint(0,len(population)-1)\n",
    "            individuals.append(population[idx])\n",
    "            fitnesses.append(fitness_value[idx])\n",
    "        new_population.append(copy.deepcopy(individuals[np.argmax(fitnesses)]))\n",
    "    return new_population "
   ]
  },
  {
   "cell_type": "markdown",
   "metadata": {},
   "source": [
    "Nyní si stejně jako v minulé hodině definujeme celý evoluční algoritmus a pakho pustíme a sledujeme, co se bude dít."
   ]
  },
  {
   "cell_type": "code",
   "execution_count": 4,
   "metadata": {},
   "outputs": [],
   "source": [
    "def evolution(population_size, individual_size, max_generations):\n",
    "    max_fitness = []\n",
    "    population = random_population(population_size,individual_size)\n",
    "    \n",
    "    for i in range(0,max_generations):\n",
    "        fitness_value = list(map(fitness, population))\n",
    "        max_fitness.append(max(fitness_value))\n",
    "        parents = selection(population,fitness_value,2)\n",
    "        children = crossover_mean(parents)\n",
    "        mutated_children = mutation_switch(children)\n",
    "        population = mutated_children\n",
    "        \n",
    "    # spocitame fitness i pro posledni populaci\n",
    "    fitness_value = list(map(fitness, population))\n",
    "    max_fitness.append(max(fitness_value))\n",
    "    best_individual = population[np.argmax(fitness_value)]\n",
    "    \n",
    "    return best_individual, population, max_fitness"
   ]
  },
  {
   "cell_type": "code",
   "execution_count": 6,
   "metadata": {
    "scrolled": true
   },
   "outputs": [
    {
     "name": "stdout",
     "output_type": "stream",
     "text": [
      "best fitness:  (-11.23283067949744,)\n",
      "best individual:  [-0.02104797  0.04801636 -0.97683311 -1.02115171  0.07349749 -0.98460378\n",
      " -0.93270877  0.8877577  -0.06097069  0.06305119]\n"
     ]
    },
    {
     "data": {
      "text/plain": [
       "Text(0.5, 0, 'Generace')"
      ]
     },
     "execution_count": 6,
     "metadata": {},
     "output_type": "execute_result"
    },
    {
     "data": {
      "image/png": "[encoded data removed]",
      "text/plain": [
       "<Figure size 432x288 with 1 Axes>"
      ]
     },
     "metadata": {
      "needs_background": "light"
     },
     "output_type": "display_data"
    }
   ],
   "source": [
    "best, population, max_fitness = evolution(population_size=100,individual_size=10,max_generations=100)\n",
    "\n",
    "print('best fitness: ', fitness(best))\n",
    "print('best individual: ', best)\n",
    "\n",
    "\n",
    "plt.plot(max_fitness)\n",
    "plt.ylabel('Fitness')\n",
    "plt.xlabel('Generace')\n"
   ]
  },
  {
   "cell_type": "markdown",
   "metadata": {},
   "source": [
    "## Úkol na cvičení\n",
    "\n",
    "V kódu výše je naprogramovaná nejjednodušší mutace -- nezatížená. Zkuste si napsat alespoň dva další druhy mutace z následujích možností a porovnat, jak se bude evoluční algoritmus chovat.\n",
    "1. Zatížená mutace, kdy se k hodnotě v jedinci přičítá číslo z normalního rozdělení se střední hodnotou 0 a rozptylem sigma. Sigma se třeba navíc může během každých n generací postupně snižovat. \n",
    "\n",
    "2. Mutace je s 1/5 pravidlem, která se používá hlavně u evolučních strategií a probíhá podobně jako zatížená mutace: přičítá k hodnotě číslo z náhodného rozdělení s 0 střední hodnotou a rozptylem sigma. Sigma se updatuje v každém kroku následovně: máme jedince a podíváme se, kolik je v populaci jedinců lepších než ten náš. Sigmu pak upravíme pomocí jednoduché rovnice: sigma = sigma * e^(počet_lepších_jedinců/počet_všech_jedinců-1/5).\n",
    "\n",
    "3. Mutace z diferenciální evoluce, která vybere náhodně pro daného jedince dva další a složku po složce dělá rozdíl jejich hodnot a ten navíc vynásobí nějakou konstantou (třeba 0.8) a to pak přičte k hodnotám v původním jedinci. \n",
    "\n",
    "Můžete samozřejmě zkusit vymyslet i nějakou vlastní mutaci, nebo třeba zkusit vypnout mutaci nebo vypnout křížení a sledovat, co se bude s evolucí dít.\n",
    "\n",
    "\n"
   ]
  },
  {
   "cell_type": "markdown",
   "metadata": {},
   "source": [
    "## Deap knihovna\n",
    "\n",
    "Nyní si opět vyzkoušíme přepsat výše zmíněný problém minimalizace Rastrigin funkce pomocí operátorů knihovny DEAP, abychom si lépe vyzkoušeli, jak se s ní pracuje a jak v ní tvořit svoje vlastní operátory, které se nám budou hodit příští hodinu u genetického programování."
   ]
  },
  {
   "cell_type": "code",
   "execution_count": 9,
   "metadata": {},
   "outputs": [],
   "source": [
    "from deap import base\n",
    "from deap import creator\n",
    "from deap import tools\n",
    "from deap import algorithms"
   ]
  },
  {
   "cell_type": "markdown",
   "metadata": {},
   "source": [
    "Pro jistotu si znovu definujeme vlastní funkce mutace, křížení a fitness funkci."
   ]
  },
  {
   "cell_type": "code",
   "execution_count": 10,
   "metadata": {},
   "outputs": [],
   "source": [
    "def rastring_function(individual):\n",
    "    N = len(individual)\n",
    "    A = 10\n",
    "    value = A*N\n",
    "    for i in range(0,len(individual)):\n",
    "        value += individual[i]**2 - A*math.cos(2*math.pi*individual[i])\n",
    "    return value, \n",
    "\n",
    "# nezatizena mutace, ktera pro mutovanou pozici vybere nove cislo z rozsahu hodnot\n",
    "def mutation_switch(individual,indpb):\n",
    "    for i in range(0,len(individual)):\n",
    "        if random.random() < indpb:\n",
    "            individual[i] = np.random.uniform(-5.12, 5.12)\n",
    "    return individual,\n",
    "\n",
    "# zatizena mutace\n",
    "def mutation_switch_biased(individual,indpb):\n",
    "    for i in range(0,len(individual)):\n",
    "        if random.random() < indpb:\n",
    "            sigma = 0.1\n",
    "            individual[i] += np.random.normal(0, sigma)\n",
    "    return individual,\n",
    "\n",
    "# krizeni pomoci prumer dvou hodnot\n",
    "def crossover_mean(individual1, individual2, alpha=0.25):\n",
    "    child1 = individual1\n",
    "    child2 = individual2\n",
    "    for i in range(0, len(individual1)):\n",
    "        child1[i] = alpha*individual1[i] + (1-alpha)*individual2[i]\n",
    "        child2[i] = (1-alpha)*individual1[i] + alpha*individual2[i]\n",
    "    return child1, child2"
   ]
  },
  {
   "cell_type": "markdown",
   "metadata": {},
   "source": [
    "Pak si zadefinujeme nový toolbox a přídáme do něj naše operátory. "
   ]
  },
  {
   "cell_type": "code",
   "execution_count": 11,
   "metadata": {},
   "outputs": [],
   "source": [
    "creator.create(\"FitnessMin\", base.Fitness, weights=(-1.0,)) # -1 protoze chci minimalizovat funkci\n",
    "creator.create(\"Individual\", list, fitness=creator.FitnessMin)\n",
    "\n",
    "toolbox = base.Toolbox()\n",
    "\n",
    "toolbox.register(\"attr_float\", random.uniform,-5.12, 5.12)\n",
    "toolbox.register(\"individual\", tools.initRepeat, creator.Individual, toolbox.attr_float, n=4)\n",
    "toolbox.register(\"population\", tools.initRepeat, list, toolbox.individual)\n",
    "\n",
    "toolbox.register(\"evaluate\", rastring_function)\n",
    "toolbox.register(\"mate\", crossover_mean)\n",
    "toolbox.register(\"mutate\", mutation_switch, indpb=0.1)\n",
    "toolbox.register(\"select\", tools.selTournament, tournsize=3)\n"
   ]
  },
  {
   "cell_type": "markdown",
   "metadata": {},
   "source": [
    "Na závěr pustíme celou eveluci a můžeme sledovat, jak se nám hledání minima daří, nebo nedaří."
   ]
  },
  {
   "cell_type": "code",
   "execution_count": 12,
   "metadata": {},
   "outputs": [
    {
     "name": "stdout",
     "output_type": "stream",
     "text": [
      "gen\tnevals\tavg    \tstd    \tmin    \tmax    \n",
      "0  \t300   \t75.4589\t20.4498\t19.3501\t139.755\n",
      "1  \t249   \t57.5574\t16.8272\t18.2719\t105.154\n",
      "2  \t252   \t51.3594\t14.9436\t11.7028\t98.7759\n",
      "3  \t246   \t46.0865\t13.7942\t8.87847\t83.7973\n",
      "4  \t260   \t42.3435\t14.4533\t8.95759\t83.4547\n",
      "5  \t245   \t36.8815\t15.3528\t1.9439 \t106.341\n",
      "6  \t260   \t35.0286\t15.3776\t1.66259\t76.2746\n",
      "7  \t259   \t30.4545\t13.1559\t1.9439 \t79.5094\n",
      "8  \t257   \t26.38  \t12.7137\t1.32345\t61.6738\n",
      "9  \t260   \t21.896 \t11.8751\t1.83196\t68.2713\n",
      "10 \t253   \t17.6297\t11.0178\t1.95961\t57.6704\n",
      "11 \t246   \t13.1503\t9.83916\t2.01301\t52.9848\n",
      "12 \t264   \t7.92191\t7.84877\t1.96445\t46.6823\n",
      "13 \t247   \t5.20565\t6.45628\t1.94934\t43.9562\n",
      "14 \t241   \t3.69119\t5.43167\t1.75156\t59.5523\n",
      "15 \t257   \t3.54568\t6.1601 \t1.66414\t48.3366\n",
      "16 \t248   \t3.74999\t7.90392\t1.65877\t69.056 \n",
      "17 \t264   \t3.62641\t6.88929\t1.65811\t49.3553\n",
      "18 \t247   \t4.05326\t9.4874 \t1.66141\t77.9585\n",
      "19 \t240   \t2.59239\t4.69972\t1.66431\t40.6137\n",
      "20 \t249   \t2.63148\t4.4928 \t1.66132\t32.3832\n",
      "21 \t239   \t3.08074\t6.58386\t1.66132\t52.4485\n",
      "22 \t261   \t2.92929\t6.00585\t1.35207\t44.8251\n",
      "23 \t260   \t3.0083 \t5.73407\t1.6573 \t41.1483\n",
      "24 \t264   \t2.81266\t5.36785\t1.65642\t47.8595\n",
      "25 \t248   \t2.66385\t4.79871\t1.65667\t42.7858\n",
      "26 \t253   \t3.1049 \t6.11776\t1.65665\t40.8432\n",
      "27 \t253   \t2.26495\t3.54884\t1.65654\t31.1446\n",
      "28 \t257   \t2.70685\t5.74021\t0.659906\t68.1779\n",
      "29 \t231   \t2.73563\t4.98483\t1.65638 \t41.4855\n",
      "30 \t242   \t3.30525\t6.63068\t1.65637 \t47.5603\n",
      "31 \t244   \t3.1602 \t7.42916\t1.65636 \t69.967 \n",
      "32 \t251   \t2.60875\t5.19016\t1.65636 \t42.1951\n",
      "33 \t249   \t2.99169\t5.19888\t1.65636 \t40.9537\n",
      "34 \t252   \t2.92246\t5.19464\t1.65636 \t44.704 \n",
      "35 \t261   \t3.06169\t5.61365\t1.65636 \t41.0089\n",
      "36 \t258   \t3.47168\t6.69132\t1.65636 \t47.6428\n",
      "37 \t255   \t3.66849\t8.04133\t1.65636 \t80.2864\n",
      "38 \t243   \t2.80014\t4.78467\t1.65636 \t36.7537\n",
      "39 \t255   \t2.64004\t5.36742\t1.65636 \t58.7706\n",
      "40 \t253   \t3.5609 \t7.14094\t1.65636 \t53.5868\n",
      "41 \t259   \t3.32703\t6.61285\t1.65636 \t52.7755\n",
      "42 \t265   \t3.83074\t8.01181\t0.781661\t57.2151\n",
      "43 \t254   \t3.30604\t6.73667\t0.781661\t50.9091\n",
      "44 \t252   \t3.25579\t7.13311\t1.65386 \t69.8337\n",
      "45 \t246   \t2.65122\t4.94347\t1.65125 \t41.6378\n",
      "46 \t245   \t3.2174 \t6.61788\t1.65072 \t53.7892\n",
      "47 \t256   \t4.04619\t9.09609\t1.6507  \t73.1082\n",
      "48 \t244   \t3.41607\t6.54517\t1.52716 \t39.5231\n",
      "49 \t251   \t3.14164\t6.92474\t1.34712 \t62.2588\n",
      "50 \t253   \t3.76638\t7.84102\t1.30412 \t64.7541\n",
      "51 \t261   \t2.69222\t4.99662\t1.30407 \t35.2766\n",
      "52 \t239   \t2.87361\t5.80914\t1.30407 \t42.1792\n",
      "53 \t245   \t2.86491\t6.30384\t0.749452\t47.5003\n",
      "54 \t249   \t3.33707\t7.31516\t1.30407 \t45.7786\n",
      "55 \t261   \t2.8601 \t6.38694\t1.30404 \t40.8793\n",
      "56 \t249   \t3.41112\t7.1185 \t1.30406 \t46.004 \n",
      "57 \t247   \t2.35951\t5.77205\t1.30406 \t53.284 \n",
      "58 \t248   \t2.28571\t4.90378\t1.30406 \t41.6181\n",
      "59 \t258   \t2.99111\t6.90367\t1.30406 \t55.4568\n",
      "60 \t263   \t3.22694\t6.90409\t1.30406 \t41.4815\n",
      "61 \t255   \t2.55761\t6.12381\t1.30406 \t73.7409\n",
      "62 \t261   \t2.00823\t3.82731\t1.30406 \t38.7478\n",
      "63 \t275   \t4.25548\t10.2266\t1.30406 \t66.168 \n",
      "64 \t253   \t2.70409\t5.68283\t1.30406 \t38.2357\n",
      "65 \t251   \t3.03173\t6.18898\t1.30406 \t38.9571\n",
      "66 \t249   \t3.12717\t7.85787\t1.30406 \t79.893 \n",
      "67 \t252   \t2.50062\t5.28668\t1.30406 \t39.2954\n",
      "68 \t227   \t2.83049\t6.89195\t1.30406 \t57.4984\n",
      "69 \t251   \t3.27826\t7.39393\t1.30406 \t57.1795\n",
      "70 \t251   \t2.4353 \t5.59539\t1.30406 \t40.4274\n",
      "71 \t252   \t2.53071\t5.17514\t1.30406 \t40.5955\n",
      "72 \t254   \t2.76539\t6.30257\t1.01619 \t59.451 \n",
      "73 \t256   \t2.95449\t6.70039\t1.02198 \t44.1924\n",
      "74 \t260   \t3.10951\t7.28705\t1.04315 \t64.1961\n",
      "75 \t258   \t3.75829\t8.55201\t1.06944 \t70.3739\n",
      "76 \t247   \t2.11444\t4.8269 \t1.06944 \t39.6245\n",
      "77 \t246   \t2.63096\t7.4343 \t1.06944 \t67.683 \n",
      "78 \t253   \t2.10574\t4.70775\t1.06944 \t37.5414\n",
      "79 \t253   \t2.23267\t4.84504\t1.06944 \t45.8846\n",
      "80 \t255   \t3.46134\t8.16231\t1.06944 \t63.9814\n",
      "81 \t247   \t2.96444\t6.74326\t1.06979 \t42.2982\n",
      "82 \t255   \t2.60429\t6.56363\t1.07049 \t54.4627\n",
      "83 \t262   \t2.71676\t6.12273\t1.07072 \t39.8923\n",
      "84 \t258   \t2.14557\t4.91997\t1.07078 \t36.07  \n",
      "85 \t251   \t2.29035\t5.85264\t1.07078 \t43.8399\n",
      "86 \t256   \t2.37081\t6.31087\t0.513027\t70.9094\n",
      "87 \t246   \t2.20608\t5.24688\t1.07078 \t39.4351\n",
      "88 \t248   \t2.29303\t5.80939\t1.07078 \t44.155 \n",
      "89 \t249   \t2.17284\t6.06763\t1.07078 \t63.4634\n",
      "90 \t257   \t3.10245\t7.87917\t1.07078 \t65.9042\n",
      "91 \t258   \t2.35628\t5.22588\t1.07078 \t40.3892\n",
      "92 \t259   \t2.79995\t6.60078\t1.07078 \t44.1184\n",
      "93 \t238   \t2.61431\t6.04922\t1.04515 \t46.5362\n",
      "94 \t265   \t2.32594\t5.73307\t1.04935 \t49.6191\n",
      "95 \t246   \t2.92283\t7.30561\t1.05422 \t57.4738\n",
      "96 \t253   \t2.40368\t5.71678\t1.06494 \t43.9721\n",
      "97 \t251   \t2.48653\t6.56873\t1.06575 \t67.39  \n",
      "98 \t254   \t2.34482\t6.29746\t0.328913\t65.4007\n",
      "99 \t260   \t3.00009\t6.50954\t0.328913\t52.6579\n",
      "100\t250   \t2.90747\t7.21421\t1.06593 \t52.0801\n"
     ]
    }
   ],
   "source": [
    "pop = toolbox.population(n=300)\n",
    "hof = tools.HallOfFame(1)\n",
    "stats = tools.Statistics(lambda ind: ind.fitness.values)\n",
    "stats.register(\"avg\", np.mean)\n",
    "stats.register(\"std\", np.std)\n",
    "stats.register(\"min\", np.min)\n",
    "stats.register(\"max\", np.max)\n",
    "\n",
    "pop, log = algorithms.eaSimple(pop, toolbox, cxpb=0.8, mutpb=0.2, ngen=100,\n",
    "                               stats=stats, halloffame=hof, verbose=True)"
   ]
  },
  {
   "cell_type": "markdown",
   "metadata": {},
   "source": [
    "## Domácí úkol - Batoh\n",
    "\n",
    "Za domácí úkol budete mít vyřešit pomocí evolučního algoritmu problém batohu, který spočívá v tom, že máme batoh kapacity C a N předmětů, každý s cenou c_i a objemem v_i a chceme vybrat takové věci, abychom maximalizovali zisk a zároveň abychom nepřekročili kapacitu batohu. \n",
    "\n"
   ]
  },
  {
   "cell_type": "code",
   "execution_count": null,
   "metadata": {},
   "outputs": [],
   "source": []
  }
 ],
 "metadata": {
  "kernelspec": {
   "display_name": "Python 3",
   "language": "python",
   "name": "python3"
  },
  "language_info": {
   "codemirror_mode": {
    "name": "ipython",
    "version": 3
   },
   "file_extension": ".py",
   "mimetype": "text/x-python",
   "name": "python",
   "nbconvert_exporter": "python",
   "pygments_lexer": "ipython3",
   "version": "3.6.5"
  }
 },
 "nbformat": 4,
 "nbformat_minor": 2
}
