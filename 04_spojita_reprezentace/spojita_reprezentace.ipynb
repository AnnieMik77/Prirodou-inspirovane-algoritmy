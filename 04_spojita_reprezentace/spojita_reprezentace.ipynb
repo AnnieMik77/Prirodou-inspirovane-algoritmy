{
 "cells": [
  {
   "cell_type": "markdown",
   "metadata": {},
   "source": [
    "# Evoluční algoritmy - spojitá a kombinatorická optimalizace\n",
    "\n",
    "Minule jsem si ukazovali jednoduchý genetický algoritmus, který pracoval s binárními jedinci. Dnes se podíváme na spojité a celočíselné reprezentace jedinců a na další druhy evolučních operátorů."
   ]
  },
  {
   "cell_type": "markdown",
   "metadata": {},
   "source": [
    "## Minimalizace Rastrigin funkce"
   ]
  },
  {
   "cell_type": "markdown",
   "metadata": {},
   "source": [
    "V následujícím cvičení si vyzkoušíme napsat jednoduchý evoluční algoritmus pro minimalizace [Rastrigin funkce](https://en.wikipedia.org/wiki/Rastrigin_function). Tato funkce je typickým příkladem nelineární funkce a běžně se používá při testování chování optimalizačních algoritmů. Nalezení jejího minima je složité, protože obsahuje spoustu lokálních minim. \n",
    "\n"
   ]
  },
  {
   "cell_type": "code",
   "execution_count": 1,
   "metadata": {},
   "outputs": [],
   "source": [
    "import numpy as np\n",
    "import random\n",
    "import copy\n",
    "import math\n",
    "%matplotlib inline\n",
    "import matplotlib.pyplot as plt"
   ]
  },
  {
   "cell_type": "markdown",
   "metadata": {},
   "source": [
    "Nejprve si definujem, jak tedy vypadá ona výše zmíněná funkce, kterou budeme chtít minimalizovat. Potom je třeba si rozmyslet, jak bude vypadat jedinec. Bude to bude floating point vektor, kde hodnoty budou čísla z intervalu [-5.12,5.12]. Pro něj si napíšeme svoje operátory křížení a mutace. Křížení může být aritmetické, například vážený průměr dvou jedinců, nebo strukturální, kdy opět prohazujeme části jedinců. Mutace může být buď netížená, což znamená, že se pro mutovanou pozici vygeneruje nové číslo z daného rozsahu hodnot, nebo zatížená, kdy k hodnotě v jedinci přičtu nějaké číslo z normálního rozdělení s danou odchylkou (například 1) a nulovou střední hodnotou."
   ]
  },
  {
   "cell_type": "code",
   "execution_count": 3,
   "metadata": {},
   "outputs": [],
   "source": [
    "# hodnota fitness funkce je vlastne hodnata rastrigin funkce v danem bode\n",
    "def fitness(individual):\n",
    "    N = len(individual)\n",
    "    A = 10\n",
    "    value = A*N\n",
    "    for i in range(0,len(individual)):\n",
    "        value += individual[i]**2 - A*math.cos(2*math.pi*individual[i])\n",
    "    return -value, \n",
    "\n",
    "# nezatizena mutace, ktera pro mutovanou pozici vybere nove cislo z rozsahu hodnot\n",
    "def mutation_switch(population,individual_mutation_prob=0.2,value_mutation_prob=0.1):\n",
    "    new_population = []\n",
    "    for i in range(0,len(population)):\n",
    "        individual = copy.deepcopy(population[i])\n",
    "        if random.random()< individual_mutation_prob:\n",
    "            for i in range(0,len(individual)):\n",
    "                if random.random() < value_mutation_prob:\n",
    "                    individual[i] = np.random.uniform(-5.12, 5.12)\n",
    "        new_population.append(individual)\n",
    "    return new_population\n",
    "\n",
    "# krizeni pomoci prumer dvou hodnot\n",
    "def crossover_mean(population, cross_prob=0.8, alpha=0.25):\n",
    "    new_population = []\n",
    "    \n",
    "    for i in range(0,len(population)//2):\n",
    "        indiv1 = copy.deepcopy(population[2*i])\n",
    "        indiv2 = copy.deepcopy(population[2*i+1])\n",
    "        child1 = indiv1\n",
    "        child2 = indiv2\n",
    "        if random.random()<cross_prob:\n",
    "            for i in range(0, len(indiv1)):\n",
    "                child1[i] = alpha*indiv1[i] + (1-alpha)*indiv2[i]\n",
    "                child2[i] = (1-alpha)*indiv1[i] + alpha*indiv2[i]\n",
    "        new_population.append(child1)\n",
    "        new_population.append(child2)\n",
    "        \n",
    "    return new_population\n",
    "\n",
    "# definujeme si funkci na na vytvoreni nahodne populace\n",
    "def random_population(population_size, individual_size):\n",
    "    population = []\n",
    "    \n",
    "    for i in range(0,population_size):\n",
    "        individual = np.random.uniform(-5.12, 5.12, size=(individual_size,))\n",
    "        population.append(individual)\n",
    "        \n",
    "    return population\n",
    "\n",
    "# definujeme si turnajovou selekci \n",
    "def selection(population,fitness_value, k): \n",
    "    new_population = []\n",
    "    for i in range(0,len(population)):\n",
    "        individuals = []\n",
    "        fitnesses = []\n",
    "        for _ in range(0,k):\n",
    "            idx = random.randint(0,len(population)-1)\n",
    "            individuals.append(population[idx])\n",
    "            fitnesses.append(fitness_value[idx])\n",
    "        new_population.append(copy.deepcopy(individuals[np.argmax(fitnesses)]))\n",
    "    return new_population "
   ]
  },
  {
   "cell_type": "markdown",
   "metadata": {},
   "source": [
    "Nyní si stejně jako v minulé hodině definujeme celý evoluční algoritmus a pakho pustíme a sledujeme, co se bude dít."
   ]
  },
  {
   "cell_type": "code",
   "execution_count": 4,
   "metadata": {},
   "outputs": [],
   "source": [
    "def evolution(population_size, individual_size, max_generations):\n",
    "    max_fitness = []\n",
    "    population = random_population(population_size,individual_size)\n",
    "    \n",
    "    for i in range(0,max_generations):\n",
    "        fitness_value = list(map(fitness, population))\n",
    "        max_fitness.append(max(fitness_value))\n",
    "        parents = selection(population,fitness_value,2)\n",
    "        children = crossover_mean(parents)\n",
    "        mutated_children = mutation_switch(children)\n",
    "        population = mutated_children\n",
    "        \n",
    "    # spocitame fitness i pro posledni populaci\n",
    "    fitness_value = list(map(fitness, population))\n",
    "    max_fitness.append(max(fitness_value))\n",
    "    best_individual = population[np.argmax(fitness_value)]\n",
    "    \n",
    "    return best_individual, population, max_fitness"
   ]
  },
  {
   "cell_type": "code",
   "execution_count": 5,
   "metadata": {
    "scrolled": true
   },
   "outputs": [
    {
     "name": "stdout",
     "output_type": "stream",
     "text": [
      "best fitness:  (-5.479497141048649,)\n",
      "best individual:  [ 0.9838357  -0.02391599 -0.02635032  0.03452868 -0.01154834 -1.04839222\n",
      "  0.03923472  0.03691795 -0.03213011  0.93876885]\n"
     ]
    },
    {
     "data": {
      "text/plain": [
       "Text(0.5,0,'Generace')"
      ]
     },
     "execution_count": 5,
     "metadata": {},
     "output_type": "execute_result"
    },
    {
     "data": {
      "image/png": "[encoded data removed]",
      "text/plain": [
       "<Figure size 432x288 with 1 Axes>"
      ]
     },
     "metadata": {},
     "output_type": "display_data"
    }
   ],
   "source": [
    "best, population, max_fitness = evolution(population_size=100,individual_size=10,max_generations=100)\n",
    "\n",
    "print('best fitness: ', fitness(best))\n",
    "print('best individual: ', best)\n",
    "\n",
    "\n",
    "plt.plot(max_fitness)\n",
    "plt.ylabel('Fitness')\n",
    "plt.xlabel('Generace')\n"
   ]
  },
  {
   "cell_type": "markdown",
   "metadata": {},
   "source": [
    "## Úkol na cvičení\n",
    "\n",
    "V kódu výše je naprogramovaná nejjednodušší mutace -- nezatížená. Zkuste si napsat alespoň dva další druhy mutace z následujích možností a porovnat, jak se bude evoluční algoritmus chovat.\n",
    "1. Zatížená mutace, kdy se k hodnotě v jedinci přičítá číslo z normalního rozdělení se střední hodnotou 0 a rozptylem sigma. Sigma se třeba navíc může během každých n generací postupně snižovat. \n",
    "\n",
    "2. Mutace s 1/5 pravidlem, která se používá hlavně u evolučních strategií a probíhá podobně jako zatížená mutace: přičítá k hodnotě číslo z náhodného rozdělení s 0 střední hodnotou a rozptylem sigma. Sigma se updatuje v každém kroku následovně: máme jedince a podíváme se, kolik je v populaci jedinců lepších než ten náš. Sigmu pak upravíme pomocí jednoduché rovnice: sigma = sigma * e^(počet_lepších_jedinců/počet_všech_jedinců-1/5).\n",
    "\n",
    "3. Mutace z diferenciální evoluce, která vybere náhodně pro daného jedince dva další a složku po složce dělá rozdíl jejich hodnot a ten navíc vynásobí nějakou konstantou (třeba 0.8) a to pak přičte k hodnotám v původním jedinci. \n",
    "\n",
    "Můžete samozřejmě zkusit vymyslet i nějakou vlastní mutaci, nebo třeba zkusit vypnout mutaci nebo vypnout křížení a sledovat, co se bude s evolucí dít.\n",
    "\n",
    "\n"
   ]
  },
  {
   "cell_type": "markdown",
   "metadata": {},
   "source": [
    "## Deap knihovna\n",
    "\n",
    "Nyní si opět vyzkoušíme přepsat výše zmíněný problém minimalizace Rastrigin funkce pomocí operátorů knihovny DEAP, abychom si lépe vyzkoušeli, jak se s ní pracuje a jak v ní tvořit svoje vlastní operátory, které se nám budou hodit příští hodinu u genetického programování."
   ]
  },
  {
   "cell_type": "code",
   "execution_count": 6,
   "metadata": {},
   "outputs": [],
   "source": [
    "from deap import base\n",
    "from deap import creator\n",
    "from deap import tools\n",
    "from deap import algorithms"
   ]
  },
  {
   "cell_type": "markdown",
   "metadata": {},
   "source": [
    "Pro jistotu si znovu definujeme vlastní funkce mutace, křížení a fitness funkci."
   ]
  },
  {
   "cell_type": "code",
   "execution_count": 7,
   "metadata": {},
   "outputs": [],
   "source": [
    "def rastring_function(individual):\n",
    "    N = len(individual)\n",
    "    A = 10\n",
    "    value = A*N\n",
    "    for i in range(0,len(individual)):\n",
    "        value += individual[i]**2 - A*math.cos(2*math.pi*individual[i])\n",
    "    return value, \n",
    "\n",
    "# nezatizena mutace, ktera pro mutovanou pozici vybere nove cislo z rozsahu hodnot\n",
    "def mutation_switch(individual,indpb):\n",
    "    for i in range(0,len(individual)):\n",
    "        if random.random() < indpb:\n",
    "            individual[i] = np.random.uniform(-5.12, 5.12)\n",
    "    return individual,\n",
    "\n",
    "# krizeni pomoci prumer dvou hodnot\n",
    "def crossover_mean(individual1, individual2, alpha=0.25):\n",
    "    child1 = individual1\n",
    "    child2 = individual2\n",
    "    for i in range(0, len(individual1)):\n",
    "        child1[i] = alpha*individual1[i] + (1-alpha)*individual2[i]\n",
    "        child2[i] = (1-alpha)*individual1[i] + alpha*individual2[i]\n",
    "    return child1, child2"
   ]
  },
  {
   "cell_type": "markdown",
   "metadata": {},
   "source": [
    "Pak si zadefinujeme nový toolbox a přídáme do něj naše operátory. "
   ]
  },
  {
   "cell_type": "code",
   "execution_count": 8,
   "metadata": {},
   "outputs": [],
   "source": [
    "creator.create(\"FitnessMin\", base.Fitness, weights=(-1.0,)) # -1 protoze chci minimalizovat funkci\n",
    "creator.create(\"Individual\", list, fitness=creator.FitnessMin)\n",
    "\n",
    "toolbox = base.Toolbox()\n",
    "\n",
    "toolbox.register(\"attr_float\", random.uniform,-5.12, 5.12)\n",
    "toolbox.register(\"individual\", tools.initRepeat, creator.Individual, toolbox.attr_float, n=4)\n",
    "toolbox.register(\"population\", tools.initRepeat, list, toolbox.individual)\n",
    "\n",
    "toolbox.register(\"evaluate\", rastring_function)\n",
    "toolbox.register(\"mate\", crossover_mean)\n",
    "toolbox.register(\"mutate\", mutation_switch, indpb=0.1)\n",
    "toolbox.register(\"select\", tools.selTournament, tournsize=3)\n"
   ]
  },
  {
   "cell_type": "markdown",
   "metadata": {},
   "source": [
    "Na závěr pustíme celou eveluci a můžeme sledovat, jak se nám hledání minima daří, nebo nedaří."
   ]
  },
  {
   "cell_type": "code",
   "execution_count": 9,
   "metadata": {},
   "outputs": [
    {
     "name": "stdout",
     "output_type": "stream",
     "text": [
      "gen\tnevals\tavg    \tstd    \tmin    \tmax    \n",
      "0  \t300   \t73.7112\t20.6666\t20.5028\t128.658\n",
      "1  \t245   \t55.3994\t16.0724\t18.6722\t98.9749\n",
      "2  \t256   \t47.5275\t15.5332\t6.06697\t88.0064\n",
      "3  \t256   \t44.6934\t16.0617\t6.8469 \t101.428\n",
      "4  \t242   \t39.5106\t14.4431\t6.8469 \t82.3651\n",
      "5  \t255   \t38.3885\t16.4729\t2.28336\t84.2986\n",
      "6  \t251   \t34.6736\t14.3886\t2.87469\t100.716\n",
      "7  \t229   \t30.6406\t13.5419\t1.69655\t78.5201\n",
      "8  \t258   \t28.1311\t14.355 \t1.90245\t82.5556\n",
      "9  \t242   \t22.5149\t12.6319\t2.27362\t67.4674\n",
      "10 \t253   \t15.8142\t10.9782\t1.8362 \t70.1056\n",
      "11 \t261   \t9.48509\t7.81077\t1.35414\t49.1818\n",
      "12 \t246   \t5.61822\t6.71459\t1.11079\t42.4276\n",
      "13 \t252   \t3.36597\t5.29673\t0.369757\t38.3168\n",
      "14 \t257   \t3.0071 \t6.02436\t0.369757\t46.0708\n",
      "15 \t251   \t3.55997\t7.65884\t1.00672 \t52.7829\n",
      "16 \t247   \t3.35388\t8.06254\t1.00672 \t60.5661\n",
      "17 \t258   \t2.76366\t6.53939\t1.00059 \t51.9172\n",
      "18 \t248   \t2.59997\t5.75079\t0.99764 \t34.2237\n",
      "19 \t245   \t3.14383\t8.20533\t0.99764 \t54.4899\n",
      "20 \t259   \t2.46232\t6.34599\t0.99764 \t58.7122\n",
      "21 \t252   \t2.95527\t8.31364\t0.99764 \t94.4723\n",
      "22 \t245   \t2.49134\t5.62846\t0.99764 \t39.5912\n",
      "23 \t239   \t2.31746\t6.12547\t0.99764 \t48.3985\n",
      "24 \t234   \t1.6734 \t4.19465\t0.997575\t51.2664\n",
      "25 \t262   \t2.28479\t5.53277\t0.997585\t37.7706\n",
      "26 \t244   \t2.37742\t5.88424\t0.997585\t47.815 \n",
      "27 \t242   \t2.06285\t4.89681\t0.997618\t41.2346\n",
      "28 \t250   \t2.40988\t6.29864\t0.997629\t49.2983\n",
      "29 \t266   \t2.02299\t4.61536\t0.997611\t41.0546\n",
      "30 \t238   \t2.08447\t4.68888\t0.99761 \t34.6021\n",
      "31 \t260   \t3.08557\t8.28258\t0.99761 \t62.7155\n",
      "32 \t254   \t2.31194\t5.2448 \t0.997613\t39.6364\n",
      "33 \t262   \t2.69005\t6.25892\t0.997616\t38.6649\n",
      "34 \t258   \t2.02789\t5.41422\t0.997616\t55.4864\n",
      "35 \t260   \t2.36249\t5.99582\t0.997617\t41.3451\n",
      "36 \t252   \t1.67338\t4.53809\t0.997617\t48.5133\n",
      "37 \t253   \t1.72363\t4.11069\t0.183969\t36.8976\n",
      "38 \t257   \t3.22454\t8.08522\t0.183969\t61.326 \n",
      "39 \t247   \t2.79269\t6.78632\t0.183969\t55.1409\n",
      "40 \t278   \t2.93095\t7.21058\t0.183969\t54.5406\n",
      "41 \t244   \t2.57159\t6.1048 \t0.183969\t43.3449\n",
      "42 \t243   \t3.0955 \t7.59711\t0.183969\t67.4079\n",
      "43 \t243   \t2.9909 \t6.56351\t0.183969\t47.6682\n",
      "44 \t264   \t2.70053\t6.76925\t0.183969\t68.1576\n",
      "45 \t243   \t2.32278\t5.05906\t0.183969\t35.3117\n",
      "46 \t254   \t2.70861\t7.3121 \t0.997617\t72.53  \n",
      "47 \t250   \t2.77412\t7.7256 \t0.997617\t61.6444\n",
      "48 \t255   \t2.34017\t6.26734\t0.997617\t66.3559\n",
      "49 \t262   \t1.92497\t4.30224\t0.997617\t33.3544\n",
      "50 \t259   \t2.1737 \t6.32752\t0.997617\t57.6628\n",
      "51 \t244   \t2.03581\t5.76069\t0.997617\t55.3062\n",
      "52 \t253   \t2.72357\t6.63297\t0.997617\t40.8796\n",
      "53 \t240   \t2.69969\t6.70999\t0.997617\t55.229 \n",
      "54 \t246   \t2.2929 \t5.27937\t0.997617\t36.3779\n",
      "55 \t248   \t2.8287 \t6.77197\t0.997617\t39.5841\n",
      "56 \t243   \t2.73356\t7.2478 \t0.997617\t46.2048\n",
      "57 \t260   \t3.11131\t7.34618\t0.997617\t43.9361\n",
      "58 \t258   \t2.07987\t5.72103\t0.997617\t66.2836\n",
      "59 \t254   \t2.52088\t5.93362\t0.997617\t40.8889\n",
      "60 \t254   \t2.50904\t6.61901\t0.997617\t56.5466\n",
      "61 \t251   \t2.35862\t6.32027\t0.997617\t46.4645\n",
      "62 \t266   \t2.4624 \t6.30402\t0.997617\t57.586 \n",
      "63 \t257   \t2.35466\t5.73559\t0.997617\t58.5508\n",
      "64 \t250   \t2.51847\t6.40853\t0.997617\t52.0766\n",
      "65 \t247   \t2.2976 \t5.63288\t0.997617\t56.1312\n",
      "66 \t252   \t2.22382\t6.04213\t0.997617\t42.7383\n",
      "67 \t250   \t2.59746\t7.30656\t0.997617\t78.2476\n",
      "68 \t238   \t2.21556\t5.44146\t0.699105\t51.1417\n",
      "69 \t238   \t2.48314\t5.95034\t0.699105\t41.0795\n",
      "70 \t262   \t3.64416\t8.32529\t0.997617\t60.2321\n",
      "71 \t246   \t1.92918\t4.67053\t0.997617\t37.3098\n",
      "72 \t249   \t2.72539\t6.89432\t0.997617\t58.1573\n",
      "73 \t241   \t2.44115\t6.35482\t0.997617\t41.4586\n",
      "74 \t240   \t2.89999\t7.68622\t0.997617\t54.2549\n",
      "75 \t260   \t2.83363\t7.41391\t0.997617\t67.3495\n",
      "76 \t260   \t2.28614\t6.08779\t0.997617\t60.3028\n",
      "77 \t243   \t2.34125\t6.30254\t0.997617\t48.7449\n",
      "78 \t259   \t2.14989\t5.6834 \t0.997617\t52.8518\n",
      "79 \t240   \t2.60095\t7.44354\t0.16496 \t63.0886\n",
      "80 \t256   \t2.14147\t5.51623\t0.997617\t49.1687\n",
      "81 \t244   \t1.91121\t5.50972\t0.997617\t51.9728\n",
      "82 \t266   \t2.40381\t5.85892\t0.997617\t46.6072\n",
      "83 \t242   \t2.76288\t7.4084 \t0.997617\t53.7423\n",
      "84 \t263   \t2.23632\t6.15836\t0.997617\t64.8935\n",
      "85 \t242   \t2.38578\t6.62758\t0.997617\t62.183 \n",
      "86 \t252   \t2.84395\t7.40157\t0.997617\t58.2907\n",
      "87 \t243   \t2.42469\t6.44697\t0.997617\t48.2754\n",
      "88 \t263   \t2.70517\t7.8206 \t0.997617\t58.2734\n",
      "89 \t248   \t3.37167\t7.93292\t0.997617\t57.9211\n",
      "90 \t241   \t1.89642\t4.55548\t0.997617\t33.5923\n",
      "91 \t251   \t2.5106 \t6.89836\t0.997617\t66.4204\n",
      "92 \t246   \t2.61478\t6.46325\t0.997617\t50.0994\n",
      "93 \t250   \t2.36994\t6.24041\t0.0834503\t60.0781\n",
      "94 \t260   \t3.4181 \t9.4354 \t0.997617 \t100.613\n",
      "95 \t246   \t2.29228\t5.46174\t0.997617 \t38.2984\n",
      "96 \t247   \t2.48009\t6.8961 \t0.997617 \t68.8713\n",
      "97 \t249   \t2.5755 \t6.09705\t0.997617 \t42.7782\n",
      "98 \t262   \t2.65019\t6.14619\t0.997617 \t56.4536\n",
      "99 \t256   \t2.68394\t7.1817 \t0.997617 \t54.0896\n",
      "100\t253   \t3.03292\t7.50603\t0.997617 \t52.0657\n"
     ]
    }
   ],
   "source": [
    "pop = toolbox.population(n=300)\n",
    "hof = tools.HallOfFame(1)\n",
    "stats = tools.Statistics(lambda ind: ind.fitness.values)\n",
    "stats.register(\"avg\", np.mean)\n",
    "stats.register(\"std\", np.std)\n",
    "stats.register(\"min\", np.min)\n",
    "stats.register(\"max\", np.max)\n",
    "\n",
    "pop, log = algorithms.eaSimple(pop, toolbox, cxpb=0.8, mutpb=0.2, ngen=100,\n",
    "                               stats=stats, halloffame=hof, verbose=True)"
   ]
  },
  {
   "cell_type": "markdown",
   "metadata": {},
   "source": [
    "## Domácí úkol - Batoh\n",
    "\n",
    "Za domácí úkol budete mít vyřešit pomocí evolučního algoritmu problém batohu. Ten spočívá v tom, že máme batoh kapacity K a N předmětů, každý s cenou c_i a objemem v_i a chceme vybrat takové věci, abychom maximalizovali zisk a zároveň abychom nepřekročili kapacitu batohu. \n",
    "\n",
    "Vstupní data máte ve složce *domaci_ukol_data*. Obsahuje čtyři soubory s daty a dva s výsledky. Na první řádce souboru s daty je vždy počet předmětů a kapacita batohu oddělené mezerou, každý další následující řádek obsahuje cenu a objem předmětu taktéž oddělené mezerou. První dva soubory slouží pro snažší odladění evolučního algoritmu a obsahují i k sobě extra soubory s optimálním řešením. Na dalších dvou máte za úkol algoritmus pustit a výsledky na nich naměřené mi poslat. \n",
    "\n",
    "Napište tedy nějaký svůj evoluční algoritmus, který bude řešit problém batohu a pusťte ho na vstupních datech. Svůj kód, popis evolučního algoritmu (zvolené evoluční operátory, kódování jedince, atd.) a rozbor výsledků i se zdůvodněním mi pošlete emailem do stanoveného deadline."
   ]
  }
 ],
 "metadata": {
  "kernelspec": {
   "display_name": "Python 3",
   "language": "python",
   "name": "python3"
  },
  "language_info": {
   "codemirror_mode": {
    "name": "ipython",
    "version": 3
   },
   "file_extension": ".py",
   "mimetype": "text/x-python",
   "name": "python",
   "nbconvert_exporter": "python",
   "pygments_lexer": "ipython3",
   "version": "3.6.5"
  }
 },
 "nbformat": 4,
 "nbformat_minor": 2
}
